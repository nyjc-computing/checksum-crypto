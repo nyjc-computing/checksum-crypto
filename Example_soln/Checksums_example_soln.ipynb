{
 "cells": [
  {
   "cell_type": "markdown",
   "metadata": {},
   "source": [
    "# Checksums\n",
    "\n",
    "In computing, we often need to maintain the integrity of transmitted data. This requires a way to check that the source data and the received data are in fact the same, without having to compare every single bit.\n",
    "\n",
    "One way to do so is to calculate a **checksum** for each block of data."
   ]
  },
  {
   "cell_type": "markdown",
   "metadata": {},
   "source": [
    "## Example 1: Luhn algorithm (mod 10)\n",
    "\n",
    "Main article: [Luhn algorithm (Wikipedia)](https://en.wikipedia.org/wiki/Luhn_algorithm)\n",
    "\n",
    "The Luhn algorithm is named after its creator, Hans Peter Luhn, a scientist at IBM. It is used to verify ID numbers all over the world.\n",
    "\n",
    "The formula verifies a number against its included check digit, and its instructions are as follows:\n",
    "\n",
    "1. From the rightmost digit (excluding the check digit) and moving left, double the value of every second digit. The check digit is neither doubled nor included in this calculation; the first digit doubled is the digit located immediately left of the check digit. If the result of this doubling operation is greater than 9 (e.g., 8 × 2 = 16), then add the digits of the result (e.g., 16: 1 + 6 = 7, 18: 1 + 8 = 9) or, equivalently, subtract 9 from the result (e.g., 16: 16 − 9 = 7, 18: 18 − 9 = 9).\n",
    "2. Take the sum of all the digits (including the check digit).\n",
    "3. If the total modulo 10 is equal to 0 (if the total ends in zero) then the number is valid according to the Luhn formula; otherwise it is not valid.\n",
    "\n",
    "### Pseudocode\n",
    "\n",
    "    function checkLuhn(string purportedCC) {\n",
    "        int nDigits := length(purportedCC)\n",
    "        int sum := integer(purportedCC[nDigits-1])\n",
    "        int parity := nDigits modulus 2\n",
    "        for i from 0 to nDigits - 2 {\n",
    "            int digit := integer(purportedCC[i])\n",
    "            if i modulus 2 = parity\n",
    "                digit := digit × 2\n",
    "            if digit > 9\n",
    "                digit := digit - 9 \n",
    "            sum := sum + digit\n",
    "        }\n",
    "        return (sum modulus 10) = 0\n",
    "    }\n",
    "\n",
    "## Task 1.1\n",
    "\n",
    "Write program code to implement a function that takes in a string of digits (without checksum digit), and returns a checksum digit."
   ]
  },
  {
   "cell_type": "code",
   "execution_count": null,
   "metadata": {},
   "outputs": [],
   "source": [
    "# Your code here\n",
    "\n",
    "def get_checksum(inputstr: str):\n",
    "    total = 0\n",
    "    for i, char in enumerate(reversed(inputstr)):\n",
    "#         print(f\"Char at {i}: {char}\")\n",
    "        if i % 2 == 0:\n",
    "            sum_of_doubled = int(char) * 2\n",
    "            if sum_of_doubled > 9:\n",
    "                sum_digit = 0\n",
    "                for digit in str(sum_of_doubled):\n",
    "                    sum_digit += int(digit)\n",
    "            else:\n",
    "                sum_digit = sum_of_doubled\n",
    "#             print(f\"Sum of digits after doubling: {sum_digit}\")\n",
    "        else:\n",
    "            sum_digit = int(char)\n",
    "#             print(f\"Sum of digits (no doubling): {sum_digit}\")\n",
    "        total += sum_digit\n",
    "#     print(f\"Total is {total}\")\n",
    "    check_digit = 10 - (total % 10)\n",
    "#     print(f\"check digit is {check_digit}\")\n",
    "    return check_digit\n",
    "            \n",
    "get_checksum('7992739871')"
   ]
  },
  {
   "cell_type": "markdown",
   "metadata": {},
   "source": [
    "## Task 1.2\n",
    "\n",
    "Write program code that takes in a string of digits (with checksum digit), and returns `True` if it is valid, `False` if it is invalid."
   ]
  },
  {
   "cell_type": "code",
   "execution_count": null,
   "metadata": {},
   "outputs": [],
   "source": [
    "# Your verification code here\n",
    "\n",
    "def verify_checksum(inputstr: str):\n",
    "    check_digit = inputstr[-1]\n",
    "    calculated_digit = str(get_checksum(inputstr[:-1]))\n",
    "#     print(f\"The calculated check digit is {calculated_digit}\")\n",
    "    return (check_digit == calculated_digit)"
   ]
  },
  {
   "cell_type": "markdown",
   "metadata": {},
   "source": [
    "### Test cases\n",
    "\n",
    "The following strings of digits have the check digit as the last digit. The validity of each string of digits is indicated.\n",
    "\n",
    "Use them to verify your function.\n",
    "\n",
    "    79927398710: Invalid\n",
    "    79927398711: Invalid\n",
    "    79927398712: Invalid\n",
    "    79927398713: Valid\n",
    "    79927398714: Invalid\n",
    "    79927398715: Invalid\n",
    "    79927398716: Invalid\n",
    "    79927398717: Invalid\n",
    "    79927398718: Invalid\n",
    "    79927398719: Invalid"
   ]
  },
  {
   "cell_type": "code",
   "execution_count": null,
   "metadata": {},
   "outputs": [],
   "source": [
    "# Your test code here\n",
    "\n",
    "teststr_front = '7992739871'\n",
    "for i in range(10):  # 0-9\n",
    "    teststr_full = teststr_front + str(i)\n",
    "    \n",
    "    result = verify_checksum(teststr_full)\n",
    "    print(f\"{teststr_full} is valid: {result}\")"
   ]
  },
  {
   "cell_type": "markdown",
   "metadata": {},
   "source": [
    "## Example 2: Binary XOR\n",
    "\n",
    "Main article: [How is TCP & UDP Checksum Calculated?](https://www.slashroot.in/how-is-tcp-and-udp-checksum-calculated)\n",
    "\n",
    "Binary XOR is a verification method used for binary data (i.e. \"raw\" data), frequently found in transmission protocols (e.g. UDP, TCP, and even for writing to storage devices such as hard disks). It works on data sets of any size.\n",
    "\n",
    "The data is first sliced up into blocks of 16 bits (2 bytes) each. This can be represented as an integer between 0 to 255 (inclusive), or two ASCII characters (8 bits each).\n",
    "\n",
    "For this example, we will use blocks of 8 bits instead of 16 bits for convenience.\n",
    "\n",
    "Let's calculate the checksum for a test string:"
   ]
  },
  {
   "cell_type": "code",
   "execution_count": 1,
   "metadata": {},
   "outputs": [],
   "source": [
    "teststring = \"a sample test string\""
   ]
  },
  {
   "cell_type": "markdown",
   "metadata": {},
   "source": [
    "Recall that a string is a sequence of *values*, which are converted to characters through an encoding table (such as ASCII, or UTF-8).\n",
    "\n",
    "For calculating checksums, we don't want to deal with the characters, but with the *value* instead. The `str` data type is not suitable for this; the `bytes` data type is more suitable.\n",
    "\n",
    "Let's convert our test string to `bytes` using the `bytes()` built-in function:"
   ]
  },
  {
   "cell_type": "code",
   "execution_count": 2,
   "metadata": {},
   "outputs": [
    {
     "data": {
      "text/plain": [
       "b'a sample test string'"
      ]
     },
     "execution_count": 2,
     "metadata": {},
     "output_type": "execute_result"
    }
   ],
   "source": [
    "teststring_bytes = bytes(teststring, encoding=\"ascii\")\n",
    "teststring_bytes"
   ]
  },
  {
   "cell_type": "markdown",
   "metadata": {},
   "source": [
    "### `bytes` data type\n",
    "\n",
    "The `b` in front of the string indicates that this is a `bytes` object, not a `str`. We can iterate through `bytes` the same way we do with `str`:"
   ]
  },
  {
   "cell_type": "code",
   "execution_count": 3,
   "metadata": {},
   "outputs": [
    {
     "name": "stdout",
     "output_type": "stream",
     "text": [
      "97\n",
      "32\n",
      "115\n",
      "97\n",
      "109\n",
      "112\n",
      "108\n",
      "101\n",
      "32\n",
      "116\n",
      "101\n",
      "115\n",
      "116\n",
      "32\n",
      "115\n",
      "116\n",
      "114\n",
      "105\n",
      "110\n",
      "103\n"
     ]
    }
   ],
   "source": [
    "for byte in teststring_bytes:\n",
    "    print(byte)"
   ]
  },
  {
   "cell_type": "markdown",
   "metadata": {},
   "source": [
    "This gives us the value of each byte, rather than the ASCII/UTF-8 character which it decodes to.\n",
    "\n",
    "Just like `str`s, `bytes` objects can be indexed and sliced too:"
   ]
  },
  {
   "cell_type": "code",
   "execution_count": 4,
   "metadata": {},
   "outputs": [
    {
     "data": {
      "text/plain": [
       "97"
      ]
     },
     "execution_count": 4,
     "metadata": {},
     "output_type": "execute_result"
    }
   ],
   "source": [
    "# Bytes are integer-indexed\n",
    "teststring_bytes[0]"
   ]
  },
  {
   "cell_type": "code",
   "execution_count": 5,
   "metadata": {},
   "outputs": [
    {
     "data": {
      "text/plain": [
       "b'a samp'"
      ]
     },
     "execution_count": 5,
     "metadata": {},
     "output_type": "execute_result"
    }
   ],
   "source": [
    "# Bytes can be sliced as well\n",
    "teststring_bytes[0:6]"
   ]
  },
  {
   "cell_type": "markdown",
   "metadata": {},
   "source": [
    "Bytes are immutable:"
   ]
  },
  {
   "cell_type": "code",
   "execution_count": 7,
   "metadata": {},
   "outputs": [
    {
     "ename": "TypeError",
     "evalue": "'bytes' object does not support item assignment",
     "output_type": "error",
     "traceback": [
      "\u001b[1;31m---------------------------------------------------------------------------\u001b[0m",
      "\u001b[1;31mTypeError\u001b[0m                                 Traceback (most recent call last)",
      "\u001b[1;32m<ipython-input-7-dce3ee92eeaa>\u001b[0m in \u001b[0;36m<module>\u001b[1;34m()\u001b[0m\n\u001b[0;32m      1\u001b[0m \u001b[1;31m# Byte indexes cannot be reassigned; this will raise an error\u001b[0m\u001b[1;33m\u001b[0m\u001b[1;33m\u001b[0m\u001b[0m\n\u001b[1;32m----> 2\u001b[1;33m \u001b[0mteststring_bytes\u001b[0m\u001b[1;33m[\u001b[0m\u001b[1;36m0\u001b[0m\u001b[1;33m]\u001b[0m \u001b[1;33m=\u001b[0m \u001b[1;36m100\u001b[0m\u001b[1;33m\u001b[0m\u001b[0m\n\u001b[0m",
      "\u001b[1;31mTypeError\u001b[0m: 'bytes' object does not support item assignment"
     ]
    }
   ],
   "source": [
    "# Byte indexes cannot be reassigned; this will raise an error\n",
    "teststring_bytes[0] = 100"
   ]
  },
  {
   "cell_type": "markdown",
   "metadata": {},
   "source": [
    "If you need a mutable sequence of bytes, convert it into a `bytearray`:"
   ]
  },
  {
   "cell_type": "code",
   "execution_count": 8,
   "metadata": {},
   "outputs": [
    {
     "data": {
      "text/plain": [
       "bytearray(b'd sample test string')"
      ]
     },
     "execution_count": 8,
     "metadata": {},
     "output_type": "execute_result"
    }
   ],
   "source": [
    "# Use the bytearray() built-in function to convert to bytearray\n",
    "mutable_teststring_bytes = bytearray(teststring_bytes)\n",
    "# Reassign the first character (remember to use the value rather than character)\n",
    "mutable_teststring_bytes[0] = 100\n",
    "# Notice that the first letter has changed\n",
    "mutable_teststring_bytes"
   ]
  },
  {
   "cell_type": "markdown",
   "metadata": {},
   "source": [
    "### Binary XOR\n",
    "\n",
    "In binary XOR, we look at each 8-bit block as a sequence of bits. Let's split up our test string into 8-bit blocks (1 value each). Next, we add up all of those values. If the result is greater than 8 bits (max value 255), we take the result modulus 255."
   ]
  },
  {
   "cell_type": "code",
   "execution_count": 11,
   "metadata": {},
   "outputs": [
    {
     "data": {
      "text/plain": [
       "161"
      ]
     },
     "execution_count": 11,
     "metadata": {},
     "output_type": "execute_result"
    }
   ],
   "source": [
    "blocksum = 0\n",
    "for byte in teststring_bytes:\n",
    "    blocksum += byte\n",
    "blocksum = blocksum % 255\n",
    "blocksum"
   ]
  },
  {
   "cell_type": "markdown",
   "metadata": {},
   "source": [
    "Now we take the **ones complement** of the result.\n",
    "\n",
    "The **ones complement** is the number that, when added to the result, will give us a binary sequence that is all `1`s.\n",
    "\n",
    "The result is 161. In binary, that is `10100001`.  \n",
    "The **ones complement** of 161 is `01011110` (decimal value 94).  \n",
    "The sum of 161 and its ones complement is `10100001` + `01011110` = `11111111` (decimal value 255)\n",
    "\n",
    "Notice that this is equivalent to taking the difference between 255 and the result!"
   ]
  },
  {
   "cell_type": "code",
   "execution_count": 12,
   "metadata": {},
   "outputs": [
    {
     "name": "stdout",
     "output_type": "stream",
     "text": [
      "255 in binary: 0b11111111\n",
      "161 in binary: 0b10100001\n",
      "255 - 161 in binary: 0b1011110\n"
     ]
    }
   ],
   "source": [
    "print(f\"255 in binary: {255:#08b}\")\n",
    "print(f\"161 in binary: {161:#08b}\")\n",
    "print(f\"255 - 161 in binary: {255-161:#08b}\")"
   ]
  },
  {
   "cell_type": "markdown",
   "metadata": {},
   "source": [
    "Technically, this is not subtraction, since we are not performing any carry-over, and negative results are not allowed. This is a **bitwise comparison**.\n",
    "\n",
    "We are comparing each digit of the result (161) and the largest value (255), and determining the ones complement according to these rules:\n",
    "\n",
    "1. If both digits are `1` or `0`, the ones complement is `0`.\n",
    "2. If one digit is `1` and the other digit is `0`, the ones complement is `1`.\n",
    "\n",
    "This operation is called a **binary XOR** (exclusive OR). Python uses the `^` operator to carry out binary XOR:"
   ]
  },
  {
   "cell_type": "code",
   "execution_count": 13,
   "metadata": {},
   "outputs": [
    {
     "name": "stdout",
     "output_type": "stream",
     "text": [
      "255 ^ 161: 94\n",
      "161 ^ 255: 94\n"
     ]
    }
   ],
   "source": [
    "print(f\"255 ^ 161: {255 ^ 161}\")\n",
    "print(f\"161 ^ 255: {161 ^ 255}\")"
   ]
  },
  {
   "cell_type": "markdown",
   "metadata": {},
   "source": [
    "Notice that regardless of the order of operands, the result is the same; this is not the case for subtraction!\n",
    "\n",
    "Let's complete our calculation of the checksum for our test string.\n",
    "\n",
    "We have our result from summing up each 8-bit block of our test string (modulus 255), now let's get the ones complement of the result:"
   ]
  },
  {
   "cell_type": "code",
   "execution_count": 14,
   "metadata": {},
   "outputs": [
    {
     "data": {
      "text/plain": [
       "94"
      ]
     },
     "execution_count": 14,
     "metadata": {},
     "output_type": "execute_result"
    }
   ],
   "source": [
    "255 ^ blocksum"
   ]
  },
  {
   "cell_type": "markdown",
   "metadata": {},
   "source": [
    "This is our checksum value, calculated using binary XOR."
   ]
  },
  {
   "cell_type": "markdown",
   "metadata": {},
   "source": [
    "## Task 2.1\n",
    "\n",
    "Write a function that takes in a string and returns a checksum value calculated using binary XOR (on blocks of 8 bits)."
   ]
  },
  {
   "cell_type": "code",
   "execution_count": 4,
   "metadata": {},
   "outputs": [
    {
     "name": "stdout",
     "output_type": "stream",
     "text": [
      "161\n",
      "94\n"
     ]
    }
   ],
   "source": [
    "# Your code here\n",
    "\n",
    "def binXOR(inputstr):\n",
    "    inputbytes = bytes(inputstr, encoding='ascii')\n",
    "    bytesum = sum(inputbytes) % 255\n",
    "    # print(\"Sum of bytes modulo 255: {bytesum}\")\n",
    "    checksum = 255 ^ bytesum\n",
    "    # print(\"Checksum: {checksum}\")\n",
    "    return checksum\n",
    "\n",
    "binXOR('a sample test string')"
   ]
  },
  {
   "cell_type": "markdown",
   "metadata": {},
   "source": [
    "## Task 2.2\n",
    "\n",
    "Write a function that takes in a string and a checksum value, and verifies if the string and its accompanying checksum are valid."
   ]
  },
  {
   "cell_type": "code",
   "execution_count": null,
   "metadata": {},
   "outputs": [],
   "source": [
    "# Your verification code here\n",
    "def isvalid(inputstr, checksum):\n",
    "        inputbytes = bytes(inputstr, encoding='ascii')\n",
    "    bytesum = sum(inputbytes) % 255\n",
    "    return (checksum == 255 ^ bytesum)"
   ]
  }
 ],
 "metadata": {
  "kernelspec": {
   "display_name": "Python 3",
   "language": "python",
   "name": "python3"
  },
  "language_info": {
   "codemirror_mode": {
    "name": "ipython",
    "version": 3
   },
   "file_extension": ".py",
   "mimetype": "text/x-python",
   "name": "python",
   "nbconvert_exporter": "python",
   "pygments_lexer": "ipython3",
   "version": "3.6.4"
  }
 },
 "nbformat": 4,
 "nbformat_minor": 2
}
