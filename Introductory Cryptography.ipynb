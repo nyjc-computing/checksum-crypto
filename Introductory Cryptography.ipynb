{
 "cells": [
  {
   "cell_type": "markdown",
   "metadata": {},
   "source": [
    "# Caesar cipher\n",
    "\n",
    "A Caesar cipher is an encryption method that replaces each plaintext letter with a letter some fixed number of positions down the alphabet. The method is named after Julius Caesar, who used it in his private correspondence.\n",
    "\n",
    "For example, a 5-letter shift results in `'a'` being replaced with `'f'`, `'b'` being replaced with `'g'`, `'y'` being replaced with `'d'`, etc.\n",
    "\n",
    "## Ciphers in Python\n",
    "\n",
    "Recall that a string is a sequence of values, which are mapped to characters according to an encoding table.\n",
    "\n",
    "The built-in function `ord(char)` gives the value of a character `char`, while the built-in function `chr(value)` gives the ASCII character corresponding to the integer `value`."
   ]
  },
  {
   "cell_type": "code",
   "execution_count": null,
   "metadata": {},
   "outputs": [],
   "source": [
    "# This gives the value of the ASCII character 'a'\n",
    "ord('a')"
   ]
  },
  {
   "cell_type": "code",
   "execution_count": null,
   "metadata": {},
   "outputs": [],
   "source": [
    "# This gives the ASCII character corresponding to the value 97\n",
    "chr(97)"
   ]
  },
  {
   "cell_type": "markdown",
   "metadata": {},
   "source": [
    "## Task\n",
    "\n",
    "Implement the Caesar cipher as a class, `CaesarCipher`. The class should be instantiated with an integer that represents the number of positions to shift each letter.\n",
    "\n",
    "The class should implement two methods:\n",
    "\n",
    "- `encode()`, which takes in a plaintext string and returns it in encoded form\n",
    "- `decode()`, which takes in an encoded string and returns it in decoded form\n",
    "\n",
    "Punctuation and other symbols should not be shifted.\n",
    "\n",
    "### Example output:\n",
    "\n",
    "    >>> cipher = CaesarCipher(7)\n",
    "    >>> inputstr = 'If he had anything confidential to say, he wrote it in cipher, that is, by so changing the order of the letters of the alphabet, that not a word could be made out.'\n",
    "    >>> encodedstr = cipher.encode(inputstr)\n",
    "    >>> encodedstr\n",
    "    'Pm ol ohk hufaopun jvumpkluaphs av zhf, ol dyval pa pu jpwoly, aoha pz, if zv johunpun aol vykly vm aol slaalyz vm aol hswohila, aoha uva h dvyk jvbsk il thkl vba.'\n",
    "    >>> cipher.decode(encodedstr)\n",
    "    'If he had anything confidential to say, he wrote it in cipher, that is, by so changing the order of the letters of the alphabet, that not a word could be made out.'\n",
    "\n",
    "\n",
    "### Extended challenge\n",
    "\n",
    "1. Add a keyword argument, `matchcase=` that preserves the case of each character if set to `True`."
   ]
  },
  {
   "cell_type": "code",
   "execution_count": null,
   "metadata": {},
   "outputs": [],
   "source": [
    "# Type your code here\n",
    "\n"
   ]
  },
  {
   "cell_type": "markdown",
   "metadata": {},
   "source": [
    "# Introductory Cryptography\n",
    "\n",
    "## Symmetric encryption\n",
    "\n",
    "A Caesar cipher is an example of **symmetric encryption**: both the sender and the recipient require the same private secret.\n",
    "\n",
    "In the case of the Caesar cipher, both sender and recipient must know how many characters to shift. Any other person who knows this secret will also be able to encode the message or decode the encrypted message.\n",
    "\n",
    "It is critical for the secret to be communicated securely. This can be difficult if sender and recipient do not have a pre-arranged means of secure communication.\n",
    "\n",
    "## Asymmetric encryption\n",
    "\n",
    "In **asymmetric encryption**, the secret comes in two parts: the *private key* and the *public key*.\n",
    "\n",
    "The recipient creates a secret, and can share the **public key** freely; the **private key** must remain protected and accessible only to the recipient.\n",
    "\n",
    "Any sender who wishes to send a message to the recipient will encrypt it using the recipient's **public key**. The recipient then decodes the encrypted message using the **private key**.\n",
    "\n",
    "Public keys are only used for encrypting, and private keys are only used for decrypting. Because the keys for encryption and decryption are different, this is known as asymmetric encryption.\n",
    "\n",
    "Common asymmetric encryption algorithms in use today are AES, RSA, Diffie-Hellman, ECC, among others.\n",
    "\n",
    "Asymmetric encyrption algorithms are in general much more computationally expensive than symmetric encryption algorithms. As such, they are used only where security is critical (e.g. for authentication and authorisation).\n",
    "\n",
    "The provided Python packages on SSOE laptops do not have any modules for carrying out asymmetric encryption/decryption."
   ]
  }
 ],
 "metadata": {
  "kernelspec": {
   "display_name": "Python 3",
   "language": "python",
   "name": "python3"
  },
  "language_info": {
   "codemirror_mode": {
    "name": "ipython",
    "version": 3
   },
   "file_extension": ".py",
   "mimetype": "text/x-python",
   "name": "python",
   "nbconvert_exporter": "python",
   "pygments_lexer": "ipython3",
   "version": "3.6.4"
  }
 },
 "nbformat": 4,
 "nbformat_minor": 2
}
